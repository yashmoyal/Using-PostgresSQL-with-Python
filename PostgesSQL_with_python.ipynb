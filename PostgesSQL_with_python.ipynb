{
 "cells": [
  {
   "cell_type": "markdown",
   "id": "26333537",
   "metadata": {},
   "source": [
    "## Steps Required for Project\n",
    "\n",
    "### Step-1 find dataset\n",
    "### Step-2 build data model (Using draw.io)\n",
    "### Step-3 write python code to create those table structure\n",
    "### Step-4 insert data from files to database"
   ]
  },
  {
   "cell_type": "markdown",
   "id": "d7977ece",
   "metadata": {},
   "source": [
    "### Import Libraries "
   ]
  },
  {
   "cell_type": "code",
   "execution_count": 1,
   "id": "44c1bef3",
   "metadata": {},
   "outputs": [],
   "source": [
    "import psycopg2\n",
    "import pandas as pd"
   ]
  },
  {
   "cell_type": "markdown",
   "id": "6908f603",
   "metadata": {},
   "source": [
    "### Create Database using Function "
   ]
  },
  {
   "cell_type": "code",
   "execution_count": 2,
   "id": "8482128e",
   "metadata": {},
   "outputs": [],
   "source": [
    "def create_database():\n",
    "    # connect to default database\n",
    "    # conn = psycopg2.connect(\"host=127.0.0.1 dbnae=studentdb user=student password=student\")\n",
    "    conn = psycopg2.connect(\"host=127.0.0.1 dbname=postgres user=postgres password=*******\")\n",
    "    conn.set_session(autocommit=True)\n",
    "    cur = conn.cursor()\n",
    "    \n",
    "    ## Create database commenwealth2022 with UTFB encoding\n",
    "    cur.execute(\"DROP DATABASE IF EXISTS commonwealth2022\")\n",
    "    cur.execute(\"CREATE DATABASE commonwealth2022\")\n",
    "    \n",
    "    ## close connection to default database\n",
    "    conn.close()\n",
    "    \n",
    "    ## connect to the sparkify database\n",
    "    conn = psycopg2.connect(\"host=127.0.0.1 dbname=commonwealth2022 user=postgres password=*******\")\n",
    "    cur = conn.cursor()\n",
    "    \n",
    "    return cur, conn"
   ]
  },
  {
   "cell_type": "markdown",
   "id": "6a726785",
   "metadata": {},
   "source": [
    "### Dropping a Table  "
   ]
  },
  {
   "cell_type": "code",
   "execution_count": 3,
   "id": "4ae7e4ef",
   "metadata": {},
   "outputs": [],
   "source": [
    "def drop_tables(cur, conn):\n",
    "    for query in drop_table_queries:\n",
    "        cur.execute(query)\n",
    "        conn.commit()"
   ]
  },
  {
   "cell_type": "markdown",
   "id": "43e1e390",
   "metadata": {},
   "source": [
    "### Creating a Table "
   ]
  },
  {
   "cell_type": "code",
   "execution_count": null,
   "id": "3167335f",
   "metadata": {},
   "outputs": [],
   "source": [
    "def create_table(cur, conn):\n",
    "    for query in create_table_queries:\n",
    "        cur.execute(query)\n",
    "        conn.commit()"
   ]
  },
  {
   "cell_type": "markdown",
   "id": "bc008f6e",
   "metadata": {},
   "source": [
    "### Reading the Dataset "
   ]
  },
  {
   "cell_type": "code",
   "execution_count": 4,
   "id": "5b365fca",
   "metadata": {},
   "outputs": [],
   "source": [
    "Athelete_count = pd.read_csv(\"D:\\Commonwealth 2022\\Countrywise Athlete Count.csv\")"
   ]
  },
  {
   "cell_type": "code",
   "execution_count": 53,
   "id": "ba8a7f42",
   "metadata": {},
   "outputs": [
    {
     "data": {
      "text/html": [
       "<div>\n",
       "<style scoped>\n",
       "    .dataframe tbody tr th:only-of-type {\n",
       "        vertical-align: middle;\n",
       "    }\n",
       "\n",
       "    .dataframe tbody tr th {\n",
       "        vertical-align: top;\n",
       "    }\n",
       "\n",
       "    .dataframe thead th {\n",
       "        text-align: right;\n",
       "    }\n",
       "</style>\n",
       "<table border=\"1\" class=\"dataframe\">\n",
       "  <thead>\n",
       "    <tr style=\"text-align: right;\">\n",
       "      <th></th>\n",
       "      <th>Country</th>\n",
       "      <th>Athletes</th>\n",
       "    </tr>\n",
       "  </thead>\n",
       "  <tbody>\n",
       "    <tr>\n",
       "      <th>0</th>\n",
       "      <td>England</td>\n",
       "      <td>438</td>\n",
       "    </tr>\n",
       "    <tr>\n",
       "      <th>1</th>\n",
       "      <td>Australia</td>\n",
       "      <td>427</td>\n",
       "    </tr>\n",
       "    <tr>\n",
       "      <th>2</th>\n",
       "      <td>Canada</td>\n",
       "      <td>268</td>\n",
       "    </tr>\n",
       "    <tr>\n",
       "      <th>3</th>\n",
       "      <td>Scotland</td>\n",
       "      <td>254</td>\n",
       "    </tr>\n",
       "    <tr>\n",
       "      <th>4</th>\n",
       "      <td>New Zealand</td>\n",
       "      <td>233</td>\n",
       "    </tr>\n",
       "    <tr>\n",
       "      <th>5</th>\n",
       "      <td>South Africa</td>\n",
       "      <td>228</td>\n",
       "    </tr>\n",
       "    <tr>\n",
       "      <th>6</th>\n",
       "      <td>India</td>\n",
       "      <td>210</td>\n",
       "    </tr>\n",
       "    <tr>\n",
       "      <th>7</th>\n",
       "      <td>Wales</td>\n",
       "      <td>201</td>\n",
       "    </tr>\n",
       "    <tr>\n",
       "      <th>8</th>\n",
       "      <td>Kenya</td>\n",
       "      <td>123</td>\n",
       "    </tr>\n",
       "    <tr>\n",
       "      <th>9</th>\n",
       "      <td>Jamaica</td>\n",
       "      <td>120</td>\n",
       "    </tr>\n",
       "  </tbody>\n",
       "</table>\n",
       "</div>"
      ],
      "text/plain": [
       "        Country  Athletes\n",
       "0       England       438\n",
       "1     Australia       427\n",
       "2        Canada       268\n",
       "3      Scotland       254\n",
       "4   New Zealand       233\n",
       "5  South Africa       228\n",
       "6         India       210\n",
       "7         Wales       201\n",
       "8         Kenya       123\n",
       "9       Jamaica       120"
      ]
     },
     "execution_count": 53,
     "metadata": {},
     "output_type": "execute_result"
    }
   ],
   "source": [
    "Athelete_count.head(10)"
   ]
  },
  {
   "cell_type": "code",
   "execution_count": 6,
   "id": "222b2e1c",
   "metadata": {},
   "outputs": [
    {
     "data": {
      "text/plain": [
       "Country     72\n",
       "Athletes    72\n",
       "dtype: int64"
      ]
     },
     "execution_count": 6,
     "metadata": {},
     "output_type": "execute_result"
    }
   ],
   "source": [
    "Athelete_count.count()"
   ]
  },
  {
   "cell_type": "code",
   "execution_count": 7,
   "id": "bd147e53",
   "metadata": {},
   "outputs": [
    {
     "data": {
      "text/plain": [
       "Index(['Country', 'Athletes'], dtype='object')"
      ]
     },
     "execution_count": 7,
     "metadata": {},
     "output_type": "execute_result"
    }
   ],
   "source": [
    "Athelete_count.columns"
   ]
  },
  {
   "cell_type": "code",
   "execution_count": 52,
   "id": "ec588f32",
   "metadata": {},
   "outputs": [
    {
     "data": {
      "text/html": [
       "<div>\n",
       "<style scoped>\n",
       "    .dataframe tbody tr th:only-of-type {\n",
       "        vertical-align: middle;\n",
       "    }\n",
       "\n",
       "    .dataframe tbody tr th {\n",
       "        vertical-align: top;\n",
       "    }\n",
       "\n",
       "    .dataframe thead th {\n",
       "        text-align: right;\n",
       "    }\n",
       "</style>\n",
       "<table border=\"1\" class=\"dataframe\">\n",
       "  <thead>\n",
       "    <tr style=\"text-align: right;\">\n",
       "      <th></th>\n",
       "      <th>Event_Category</th>\n",
       "      <th>Event_Subtype</th>\n",
       "      <th>28thThu</th>\n",
       "      <th>29thFri</th>\n",
       "      <th>30thSat</th>\n",
       "      <th>31stSun</th>\n",
       "      <th>1stMon</th>\n",
       "      <th>2ndTue</th>\n",
       "      <th>3rdWed</th>\n",
       "      <th>4thThu</th>\n",
       "      <th>5thFri</th>\n",
       "      <th>6thSat</th>\n",
       "      <th>7thSun</th>\n",
       "      <th>8thMon</th>\n",
       "      <th>Events</th>\n",
       "    </tr>\n",
       "  </thead>\n",
       "  <tbody>\n",
       "    <tr>\n",
       "      <th>0</th>\n",
       "      <td>Aquatics</td>\n",
       "      <td>Swimming</td>\n",
       "      <td>0.0</td>\n",
       "      <td>7.0</td>\n",
       "      <td>10.0</td>\n",
       "      <td>8.0</td>\n",
       "      <td>8.0</td>\n",
       "      <td>10.0</td>\n",
       "      <td>9.0</td>\n",
       "      <td>0.0</td>\n",
       "      <td>0.0</td>\n",
       "      <td>0.0</td>\n",
       "      <td>0.0</td>\n",
       "      <td>0.0</td>\n",
       "      <td>52.0</td>\n",
       "    </tr>\n",
       "    <tr>\n",
       "      <th>1</th>\n",
       "      <td>Athletics</td>\n",
       "      <td>Athletics</td>\n",
       "      <td>0.0</td>\n",
       "      <td>0.0</td>\n",
       "      <td>4.0</td>\n",
       "      <td>0.0</td>\n",
       "      <td>0.0</td>\n",
       "      <td>6.0</td>\n",
       "      <td>8.0</td>\n",
       "      <td>6.0</td>\n",
       "      <td>5.0</td>\n",
       "      <td>14.0</td>\n",
       "      <td>15.0</td>\n",
       "      <td>0.0</td>\n",
       "      <td>58.0</td>\n",
       "    </tr>\n",
       "    <tr>\n",
       "      <th>2</th>\n",
       "      <td>Badminton</td>\n",
       "      <td>Badminton</td>\n",
       "      <td>0.0</td>\n",
       "      <td>0.0</td>\n",
       "      <td>0.0</td>\n",
       "      <td>0.0</td>\n",
       "      <td>0.0</td>\n",
       "      <td>1.0</td>\n",
       "      <td>0.0</td>\n",
       "      <td>0.0</td>\n",
       "      <td>0.0</td>\n",
       "      <td>0.0</td>\n",
       "      <td>0.0</td>\n",
       "      <td>5.0</td>\n",
       "      <td>6.0</td>\n",
       "    </tr>\n",
       "    <tr>\n",
       "      <th>3</th>\n",
       "      <td>3x3 basketball</td>\n",
       "      <td>3x3 basketball</td>\n",
       "      <td>0.0</td>\n",
       "      <td>0.0</td>\n",
       "      <td>0.0</td>\n",
       "      <td>0.0</td>\n",
       "      <td>0.0</td>\n",
       "      <td>4.0</td>\n",
       "      <td>0.0</td>\n",
       "      <td>0.0</td>\n",
       "      <td>0.0</td>\n",
       "      <td>0.0</td>\n",
       "      <td>0.0</td>\n",
       "      <td>0.0</td>\n",
       "      <td>4.0</td>\n",
       "    </tr>\n",
       "    <tr>\n",
       "      <th>4</th>\n",
       "      <td>Beach volleyball</td>\n",
       "      <td>Beach volleyball</td>\n",
       "      <td>0.0</td>\n",
       "      <td>0.0</td>\n",
       "      <td>0.0</td>\n",
       "      <td>0.0</td>\n",
       "      <td>0.0</td>\n",
       "      <td>0.0</td>\n",
       "      <td>0.0</td>\n",
       "      <td>0.0</td>\n",
       "      <td>0.0</td>\n",
       "      <td>0.0</td>\n",
       "      <td>2.0</td>\n",
       "      <td>0.0</td>\n",
       "      <td>2.0</td>\n",
       "    </tr>\n",
       "    <tr>\n",
       "      <th>5</th>\n",
       "      <td>Boxing</td>\n",
       "      <td>Boxing</td>\n",
       "      <td>0.0</td>\n",
       "      <td>0.0</td>\n",
       "      <td>0.0</td>\n",
       "      <td>0.0</td>\n",
       "      <td>0.0</td>\n",
       "      <td>0.0</td>\n",
       "      <td>0.0</td>\n",
       "      <td>0.0</td>\n",
       "      <td>0.0</td>\n",
       "      <td>0.0</td>\n",
       "      <td>16.0</td>\n",
       "      <td>0.0</td>\n",
       "      <td>16.0</td>\n",
       "    </tr>\n",
       "    <tr>\n",
       "      <th>6</th>\n",
       "      <td>Cricket</td>\n",
       "      <td>Cricket</td>\n",
       "      <td>0.0</td>\n",
       "      <td>0.0</td>\n",
       "      <td>0.0</td>\n",
       "      <td>0.0</td>\n",
       "      <td>0.0</td>\n",
       "      <td>0.0</td>\n",
       "      <td>0.0</td>\n",
       "      <td>0.0</td>\n",
       "      <td>0.0</td>\n",
       "      <td>0.0</td>\n",
       "      <td>1.0</td>\n",
       "      <td>0.0</td>\n",
       "      <td>1.0</td>\n",
       "    </tr>\n",
       "    <tr>\n",
       "      <th>7</th>\n",
       "      <td>Cycling</td>\n",
       "      <td>0</td>\n",
       "      <td>0.0</td>\n",
       "      <td>0.0</td>\n",
       "      <td>0.0</td>\n",
       "      <td>0.0</td>\n",
       "      <td>0.0</td>\n",
       "      <td>0.0</td>\n",
       "      <td>0.0</td>\n",
       "      <td>0.0</td>\n",
       "      <td>0.0</td>\n",
       "      <td>0.0</td>\n",
       "      <td>0.0</td>\n",
       "      <td>0.0</td>\n",
       "      <td>0.0</td>\n",
       "    </tr>\n",
       "    <tr>\n",
       "      <th>8</th>\n",
       "      <td>Cycling</td>\n",
       "      <td>Mountain biking</td>\n",
       "      <td>0.0</td>\n",
       "      <td>0.0</td>\n",
       "      <td>0.0</td>\n",
       "      <td>0.0</td>\n",
       "      <td>0.0</td>\n",
       "      <td>0.0</td>\n",
       "      <td>2.0</td>\n",
       "      <td>0.0</td>\n",
       "      <td>0.0</td>\n",
       "      <td>0.0</td>\n",
       "      <td>0.0</td>\n",
       "      <td>0.0</td>\n",
       "      <td>26.0</td>\n",
       "    </tr>\n",
       "    <tr>\n",
       "      <th>9</th>\n",
       "      <td>Cycling</td>\n",
       "      <td>Road cycling</td>\n",
       "      <td>0.0</td>\n",
       "      <td>0.0</td>\n",
       "      <td>0.0</td>\n",
       "      <td>0.0</td>\n",
       "      <td>0.0</td>\n",
       "      <td>0.0</td>\n",
       "      <td>0.0</td>\n",
       "      <td>2.0</td>\n",
       "      <td>0.0</td>\n",
       "      <td>0.0</td>\n",
       "      <td>2.0</td>\n",
       "      <td>0.0</td>\n",
       "      <td>26.0</td>\n",
       "    </tr>\n",
       "  </tbody>\n",
       "</table>\n",
       "</div>"
      ],
      "text/plain": [
       "     Event_Category     Event_Subtype  28thThu  29thFri  30thSat  31stSun  \\\n",
       "0          Aquatics          Swimming      0.0      7.0     10.0      8.0   \n",
       "1         Athletics         Athletics      0.0      0.0      4.0      0.0   \n",
       "2         Badminton         Badminton      0.0      0.0      0.0      0.0   \n",
       "3    3x3 basketball    3x3 basketball      0.0      0.0      0.0      0.0   \n",
       "4  Beach volleyball  Beach volleyball      0.0      0.0      0.0      0.0   \n",
       "5            Boxing            Boxing      0.0      0.0      0.0      0.0   \n",
       "6           Cricket           Cricket      0.0      0.0      0.0      0.0   \n",
       "7           Cycling                 0      0.0      0.0      0.0      0.0   \n",
       "8           Cycling   Mountain biking      0.0      0.0      0.0      0.0   \n",
       "9           Cycling      Road cycling      0.0      0.0      0.0      0.0   \n",
       "\n",
       "   1stMon  2ndTue  3rdWed  4thThu  5thFri  6thSat  7thSun  8thMon  Events  \n",
       "0     8.0    10.0     9.0     0.0     0.0     0.0     0.0     0.0    52.0  \n",
       "1     0.0     6.0     8.0     6.0     5.0    14.0    15.0     0.0    58.0  \n",
       "2     0.0     1.0     0.0     0.0     0.0     0.0     0.0     5.0     6.0  \n",
       "3     0.0     4.0     0.0     0.0     0.0     0.0     0.0     0.0     4.0  \n",
       "4     0.0     0.0     0.0     0.0     0.0     0.0     2.0     0.0     2.0  \n",
       "5     0.0     0.0     0.0     0.0     0.0     0.0    16.0     0.0    16.0  \n",
       "6     0.0     0.0     0.0     0.0     0.0     0.0     1.0     0.0     1.0  \n",
       "7     0.0     0.0     0.0     0.0     0.0     0.0     0.0     0.0     0.0  \n",
       "8     0.0     0.0     2.0     0.0     0.0     0.0     0.0     0.0    26.0  \n",
       "9     0.0     0.0     0.0     2.0     0.0     0.0     2.0     0.0    26.0  "
      ]
     },
     "execution_count": 52,
     "metadata": {},
     "output_type": "execute_result"
    }
   ],
   "source": [
    "Event_Schedule = pd.read_csv(\"D:\\Commonwealth 2022\\EventSchedule.csv\")\n",
    "Event_Schedule.head(10)"
   ]
  },
  {
   "cell_type": "code",
   "execution_count": 29,
   "id": "710a715a",
   "metadata": {},
   "outputs": [
    {
     "data": {
      "text/plain": [
       "Index(['Event_Category', 'Event_Subtype', '28thThu', '29thFri', '30thSat',\n",
       "       '31stSun', '1stMon', '2ndTue', '3rdWed', '4thThu', '5thFri', '6thSat',\n",
       "       '7thSun', '8thMon', 'Events'],\n",
       "      dtype='object')"
      ]
     },
     "execution_count": 29,
     "metadata": {},
     "output_type": "execute_result"
    }
   ],
   "source": [
    "Event_Schedule.columns"
   ]
  },
  {
   "cell_type": "code",
   "execution_count": 10,
   "id": "19fe419f",
   "metadata": {},
   "outputs": [
    {
     "data": {
      "text/html": [
       "<div>\n",
       "<style scoped>\n",
       "    .dataframe tbody tr th:only-of-type {\n",
       "        vertical-align: middle;\n",
       "    }\n",
       "\n",
       "    .dataframe tbody tr th {\n",
       "        vertical-align: top;\n",
       "    }\n",
       "\n",
       "    .dataframe thead th {\n",
       "        text-align: right;\n",
       "    }\n",
       "</style>\n",
       "<table border=\"1\" class=\"dataframe\">\n",
       "  <thead>\n",
       "    <tr style=\"text-align: right;\">\n",
       "      <th></th>\n",
       "      <th>Country Name</th>\n",
       "      <th>Men Gold</th>\n",
       "      <th>Men Silver</th>\n",
       "      <th>Men Bronze</th>\n",
       "      <th>Women Gold</th>\n",
       "      <th>Women Silver</th>\n",
       "      <th>Women Bronze</th>\n",
       "      <th>Mixed Gold</th>\n",
       "      <th>Mixed Silver</th>\n",
       "      <th>Mixed Bronze</th>\n",
       "      <th>Total Gold</th>\n",
       "      <th>Total Silver</th>\n",
       "      <th>Total Bronze</th>\n",
       "      <th>Total</th>\n",
       "    </tr>\n",
       "  </thead>\n",
       "  <tbody>\n",
       "    <tr>\n",
       "      <th>0</th>\n",
       "      <td>Australia</td>\n",
       "      <td>19</td>\n",
       "      <td>21</td>\n",
       "      <td>26</td>\n",
       "      <td>38</td>\n",
       "      <td>25</td>\n",
       "      <td>23</td>\n",
       "      <td>2</td>\n",
       "      <td>0</td>\n",
       "      <td>1</td>\n",
       "      <td>59</td>\n",
       "      <td>46</td>\n",
       "      <td>50</td>\n",
       "      <td>155</td>\n",
       "    </tr>\n",
       "    <tr>\n",
       "      <th>1</th>\n",
       "      <td>England</td>\n",
       "      <td>31</td>\n",
       "      <td>24</td>\n",
       "      <td>23</td>\n",
       "      <td>18</td>\n",
       "      <td>27</td>\n",
       "      <td>21</td>\n",
       "      <td>1</td>\n",
       "      <td>1</td>\n",
       "      <td>2</td>\n",
       "      <td>50</td>\n",
       "      <td>52</td>\n",
       "      <td>46</td>\n",
       "      <td>148</td>\n",
       "    </tr>\n",
       "    <tr>\n",
       "      <th>2</th>\n",
       "      <td>Canada</td>\n",
       "      <td>7</td>\n",
       "      <td>8</td>\n",
       "      <td>15</td>\n",
       "      <td>15</td>\n",
       "      <td>20</td>\n",
       "      <td>17</td>\n",
       "      <td>0</td>\n",
       "      <td>1</td>\n",
       "      <td>1</td>\n",
       "      <td>22</td>\n",
       "      <td>29</td>\n",
       "      <td>33</td>\n",
       "      <td>84</td>\n",
       "    </tr>\n",
       "    <tr>\n",
       "      <th>3</th>\n",
       "      <td>New Zealand</td>\n",
       "      <td>12</td>\n",
       "      <td>8</td>\n",
       "      <td>5</td>\n",
       "      <td>5</td>\n",
       "      <td>4</td>\n",
       "      <td>10</td>\n",
       "      <td>0</td>\n",
       "      <td>0</td>\n",
       "      <td>0</td>\n",
       "      <td>17</td>\n",
       "      <td>12</td>\n",
       "      <td>15</td>\n",
       "      <td>44</td>\n",
       "    </tr>\n",
       "    <tr>\n",
       "      <th>4</th>\n",
       "      <td>India</td>\n",
       "      <td>8</td>\n",
       "      <td>5</td>\n",
       "      <td>10</td>\n",
       "      <td>5</td>\n",
       "      <td>5</td>\n",
       "      <td>6</td>\n",
       "      <td>0</td>\n",
       "      <td>1</td>\n",
       "      <td>0</td>\n",
       "      <td>13</td>\n",
       "      <td>11</td>\n",
       "      <td>16</td>\n",
       "      <td>40</td>\n",
       "    </tr>\n",
       "    <tr>\n",
       "      <th>5</th>\n",
       "      <td>Nigeria</td>\n",
       "      <td>0</td>\n",
       "      <td>3</td>\n",
       "      <td>5</td>\n",
       "      <td>9</td>\n",
       "      <td>5</td>\n",
       "      <td>8</td>\n",
       "      <td>0</td>\n",
       "      <td>0</td>\n",
       "      <td>0</td>\n",
       "      <td>9</td>\n",
       "      <td>8</td>\n",
       "      <td>13</td>\n",
       "      <td>30</td>\n",
       "    </tr>\n",
       "    <tr>\n",
       "      <th>6</th>\n",
       "      <td>Scotland</td>\n",
       "      <td>4</td>\n",
       "      <td>6</td>\n",
       "      <td>13</td>\n",
       "      <td>3</td>\n",
       "      <td>3</td>\n",
       "      <td>11</td>\n",
       "      <td>1</td>\n",
       "      <td>0</td>\n",
       "      <td>0</td>\n",
       "      <td>8</td>\n",
       "      <td>9</td>\n",
       "      <td>24</td>\n",
       "      <td>41</td>\n",
       "    </tr>\n",
       "    <tr>\n",
       "      <th>7</th>\n",
       "      <td>South Africa</td>\n",
       "      <td>3</td>\n",
       "      <td>5</td>\n",
       "      <td>4</td>\n",
       "      <td>4</td>\n",
       "      <td>3</td>\n",
       "      <td>7</td>\n",
       "      <td>0</td>\n",
       "      <td>0</td>\n",
       "      <td>0</td>\n",
       "      <td>7</td>\n",
       "      <td>8</td>\n",
       "      <td>11</td>\n",
       "      <td>26</td>\n",
       "    </tr>\n",
       "    <tr>\n",
       "      <th>8</th>\n",
       "      <td>Malaysia</td>\n",
       "      <td>3</td>\n",
       "      <td>2</td>\n",
       "      <td>2</td>\n",
       "      <td>2</td>\n",
       "      <td>3</td>\n",
       "      <td>2</td>\n",
       "      <td>1</td>\n",
       "      <td>0</td>\n",
       "      <td>0</td>\n",
       "      <td>6</td>\n",
       "      <td>5</td>\n",
       "      <td>4</td>\n",
       "      <td>15</td>\n",
       "    </tr>\n",
       "    <tr>\n",
       "      <th>9</th>\n",
       "      <td>Jamaica</td>\n",
       "      <td>1</td>\n",
       "      <td>1</td>\n",
       "      <td>1</td>\n",
       "      <td>5</td>\n",
       "      <td>3</td>\n",
       "      <td>1</td>\n",
       "      <td>0</td>\n",
       "      <td>0</td>\n",
       "      <td>0</td>\n",
       "      <td>6</td>\n",
       "      <td>4</td>\n",
       "      <td>2</td>\n",
       "      <td>12</td>\n",
       "    </tr>\n",
       "  </tbody>\n",
       "</table>\n",
       "</div>"
      ],
      "text/plain": [
       "     Country Name  Men Gold  Men Silver  Men Bronze  Women Gold  Women Silver  \\\n",
       "0      Australia         19          21          26          38            25   \n",
       "1        England         31          24          23          18            27   \n",
       "2         Canada          7           8          15          15            20   \n",
       "3    New Zealand         12           8           5           5             4   \n",
       "4          India          8           5          10           5             5   \n",
       "5        Nigeria          0           3           5           9             5   \n",
       "6       Scotland          4           6          13           3             3   \n",
       "7   South Africa          3           5           4           4             3   \n",
       "8       Malaysia          3           2           2           2             3   \n",
       "9        Jamaica          1           1           1           5             3   \n",
       "\n",
       "   Women Bronze  Mixed Gold  Mixed Silver  Mixed Bronze  Total Gold  \\\n",
       "0            23           2             0             1          59   \n",
       "1            21           1             1             2          50   \n",
       "2            17           0             1             1          22   \n",
       "3            10           0             0             0          17   \n",
       "4             6           0             1             0          13   \n",
       "5             8           0             0             0           9   \n",
       "6            11           1             0             0           8   \n",
       "7             7           0             0             0           7   \n",
       "8             2           1             0             0           6   \n",
       "9             1           0             0             0           6   \n",
       "\n",
       "   Total Silver  Total Bronze  Total  \n",
       "0            46            50    155  \n",
       "1            52            46    148  \n",
       "2            29            33     84  \n",
       "3            12            15     44  \n",
       "4            11            16     40  \n",
       "5             8            13     30  \n",
       "6             9            24     41  \n",
       "7             8            11     26  \n",
       "8             5             4     15  \n",
       "9             4             2     12  "
      ]
     },
     "execution_count": 10,
     "metadata": {},
     "output_type": "execute_result"
    }
   ],
   "source": [
    "Medal_Standing = pd.read_csv(\"D:\\Commonwealth 2022\\Medal Standings.csv\")\n",
    "Medal_Standing.head(10)"
   ]
  },
  {
   "cell_type": "code",
   "execution_count": 11,
   "id": "469c3e2b",
   "metadata": {},
   "outputs": [
    {
     "data": {
      "text/plain": [
       "Index(['Country Name', 'Men Gold', 'Men Silver', 'Men Bronze', 'Women Gold',\n",
       "       'Women Silver', 'Women Bronze', 'Mixed Gold', 'Mixed Silver',\n",
       "       'Mixed Bronze', 'Total Gold', 'Total Silver', 'Total Bronze', 'Total'],\n",
       "      dtype='object')"
      ]
     },
     "execution_count": 11,
     "metadata": {},
     "output_type": "execute_result"
    }
   ],
   "source": [
    "Medal_Standing.columns"
   ]
  },
  {
   "cell_type": "markdown",
   "id": "ca2c9f2b",
   "metadata": {},
   "source": [
    "### Calling our cursor and connection through create_database() "
   ]
  },
  {
   "cell_type": "code",
   "execution_count": 12,
   "id": "5c94ad26",
   "metadata": {},
   "outputs": [],
   "source": [
    "cur, conn = create_database()"
   ]
  },
  {
   "cell_type": "markdown",
   "id": "88f402bf",
   "metadata": {},
   "source": [
    "### Creating Athelete_Count table in postgresql "
   ]
  },
  {
   "cell_type": "code",
   "execution_count": 13,
   "id": "07aa2ccd",
   "metadata": {},
   "outputs": [],
   "source": [
    "## Table Structure \n",
    "athelete_count_table_create = (\"\"\"CREATE TABLE IF NOT EXISTS Athelete_count(\n",
    "Country VARCHAR PRIMARY KEY,\n",
    "Athletes INT)\"\"\")                                                                                                       "
   ]
  },
  {
   "cell_type": "code",
   "execution_count": 14,
   "id": "970558bc",
   "metadata": {},
   "outputs": [],
   "source": [
    "cur.execute(athelete_count_table_create)\n",
    "conn.commit()"
   ]
  },
  {
   "cell_type": "markdown",
   "id": "5e476fe2",
   "metadata": {},
   "source": [
    "### Creating Event_Schedule table in postgresql "
   ]
  },
  {
   "cell_type": "code",
   "execution_count": 30,
   "id": "62ae3f58",
   "metadata": {},
   "outputs": [],
   "source": [
    "## Table Structure\n",
    "Event_Schedule_table_create = (\"\"\"CREATE TABLE IF NOT EXISTS Event_schedule(\n",
    "Event_Category VARCHAR,\n",
    "Event_Subtype VARCHAR,\n",
    "_28thThu FLOAT,\n",
    "_29thFri FLOAT,\n",
    "_30thSat FLOAT,\n",
    "_31stSun FLOAT,\n",
    "_1stMon FLOAT,\n",
    "_2ndTue FLOAT,\n",
    "_3rdWed FLOAT,\n",
    "_4thThu FLOAT,\n",
    "_5thFri FLOAT,\n",
    "_6thSat FLOAT,\n",
    "_7thSun FLOAT,\n",
    "_8thMon FLOAT,\n",
    "Events FLOAT)\"\"\")"
   ]
  },
  {
   "cell_type": "code",
   "execution_count": 31,
   "id": "660aee8b",
   "metadata": {},
   "outputs": [],
   "source": [
    "cur.execute(\"ROLLBACK\")\n",
    "cur.execute(Event_Schedule_table_create)\n",
    "conn.commit()"
   ]
  },
  {
   "cell_type": "markdown",
   "id": "738702cd",
   "metadata": {},
   "source": [
    "### Creating Medal_Standing table in postgresql "
   ]
  },
  {
   "cell_type": "code",
   "execution_count": 36,
   "id": "0f5d0e6c",
   "metadata": {},
   "outputs": [],
   "source": [
    "## Table Structure\n",
    "Medal_Standing_table_create = (\"\"\"CREATE TABLE IF NOT EXISTS Medal_Standing(\n",
    "Country_Name VARCHAR,\n",
    "Men_Gold INT,\n",
    "Men_Silver INT,\n",
    "Men_Bronze INT,\n",
    "Women_Gold INT,\n",
    "Women_Silver INT,\n",
    "Women_Bronze INT,\n",
    "Mixed_Gold INT,\n",
    "Mixed_Silver INT,\n",
    "Mixed_Bronze INT,\n",
    "Total_Gold INT,\n",
    "Total_Silver INT,\n",
    "Total_Bronze INT,\n",
    "Total INT)\"\"\")"
   ]
  },
  {
   "cell_type": "code",
   "execution_count": 37,
   "id": "025b26e3",
   "metadata": {},
   "outputs": [],
   "source": [
    "cur.execute(\"ROLLBACK\")\n",
    "cur.execute(Medal_Standing_table_create)\n",
    "conn.commit()"
   ]
  },
  {
   "cell_type": "markdown",
   "id": "f66c395a",
   "metadata": {},
   "source": [
    "### Inserting data from pandas dataframe to postgresql database "
   ]
  },
  {
   "cell_type": "markdown",
   "id": "5c82e738",
   "metadata": {},
   "source": [
    "### Athelete_Count table "
   ]
  },
  {
   "cell_type": "code",
   "execution_count": 19,
   "id": "be6f3050",
   "metadata": {},
   "outputs": [],
   "source": [
    "athelete_count_table_insert = (\"\"\"INSERT INTO Athelete_count(\n",
    "Country,Athletes) VALUES(%s, %s)\"\"\")"
   ]
  },
  {
   "cell_type": "code",
   "execution_count": 20,
   "id": "01e2099c",
   "metadata": {},
   "outputs": [],
   "source": [
    "for i, row in Athelete_count.iterrows():\n",
    "    cur.execute(athelete_count_table_insert, list(row))"
   ]
  },
  {
   "cell_type": "code",
   "execution_count": 21,
   "id": "931b7490",
   "metadata": {},
   "outputs": [],
   "source": [
    "conn.commit()"
   ]
  },
  {
   "cell_type": "markdown",
   "id": "ba730099",
   "metadata": {},
   "source": [
    "### Event_Schedule table "
   ]
  },
  {
   "cell_type": "code",
   "execution_count": 47,
   "id": "392e0a79",
   "metadata": {},
   "outputs": [],
   "source": [
    "Event_Schedule_table_insert = (\"\"\"INSERT INTO Event_schedule(\n",
    "Event_Category,\n",
    "Event_Subtype,\n",
    "_28thThu,\n",
    "_29thFri,\n",
    "_30thSat,\n",
    "_31stSun,\n",
    "_1stMon,\n",
    "_2ndTue,\n",
    "_3rdWed,\n",
    "_4thThu,\n",
    "_5thFri,\n",
    "_6thSat,\n",
    "_7thSun,\n",
    "_8thMon,\n",
    "Events) VALUES(%s, %s, %s, %s, %s, %s, %s, %s, %s, %s, %s, %s, %s, %s, %s)\"\"\")"
   ]
  },
  {
   "cell_type": "code",
   "execution_count": 48,
   "id": "d22113ab",
   "metadata": {},
   "outputs": [],
   "source": [
    "for i, row in Events_Schedule.iterrows():\n",
    "    cur.execute(Event_Schedule_table_insert, list(row))"
   ]
  },
  {
   "cell_type": "code",
   "execution_count": 49,
   "id": "c183535b",
   "metadata": {},
   "outputs": [],
   "source": [
    "conn.commit()"
   ]
  },
  {
   "cell_type": "markdown",
   "id": "5abfd646",
   "metadata": {},
   "source": [
    "### Medal_Standing table "
   ]
  },
  {
   "cell_type": "code",
   "execution_count": 50,
   "id": "b1e7bf88",
   "metadata": {},
   "outputs": [],
   "source": [
    "Medal_Standing_table_insert = (\"\"\"INSERT INTO Medal_Standing(\n",
    "Country_Name,\n",
    "Men_Gold,\n",
    "Men_Silver,\n",
    "Men_Bronze,\n",
    "Women_Gold,\n",
    "Women_Silver,\n",
    "Women_Bronze,\n",
    "Mixed_Gold,\n",
    "Mixed_Silver,\n",
    "Mixed_Bronze,\n",
    "Total_Gold,\n",
    "Total_Silver,\n",
    "Total_Bronze,\n",
    "Total) VALUES(%s, %s, %s, %s, %s, %s, %s, %s, %s, %s, %s, %s, %s, %s)\"\"\")"
   ]
  },
  {
   "cell_type": "code",
   "execution_count": 46,
   "id": "19f56919",
   "metadata": {},
   "outputs": [],
   "source": [
    "cur.execute(\"ROLLBACK\")\n",
    "for i, row in Medal_Standing.iterrows():\n",
    "    #print(list(row))\n",
    "    cur.execute(Medal_Standing_table_insert, list(row))"
   ]
  },
  {
   "cell_type": "code",
   "execution_count": 51,
   "id": "18c2b585",
   "metadata": {},
   "outputs": [],
   "source": [
    "conn.commit()"
   ]
  }
 ],
 "metadata": {
  "kernelspec": {
   "display_name": "Python 3 (ipykernel)",
   "language": "python",
   "name": "python3"
  },
  "language_info": {
   "codemirror_mode": {
    "name": "ipython",
    "version": 3
   },
   "file_extension": ".py",
   "mimetype": "text/x-python",
   "name": "python",
   "nbconvert_exporter": "python",
   "pygments_lexer": "ipython3",
   "version": "3.9.10"
  }
 },
 "nbformat": 4,
 "nbformat_minor": 5
}
